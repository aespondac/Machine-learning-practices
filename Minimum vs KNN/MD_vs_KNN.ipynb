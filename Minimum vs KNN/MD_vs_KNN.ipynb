{
 "cells": [
  {
   "cell_type": "markdown",
   "metadata": {},
   "source": [
    "# "
   ]
  },
  {
   "cell_type": "code",
   "execution_count": 16,
   "metadata": {},
   "outputs": [],
   "source": [
    "import sklearn.datasets as datasets\n",
    "import numpy as np\n",
    "import matplotlib.pyplot as plt"
   ]
  },
  {
   "cell_type": "code",
   "execution_count": 17,
   "metadata": {},
   "outputs": [],
   "source": [
    "# Load 3 different datasets for minimum distance and 1NN classifier\n",
    "# 1. Iris dataset\n",
    "iris = datasets.load_iris()\n",
    "iris_data = iris.data\n",
    "iris_target = iris.target\n",
    "iris_feature_names = iris.feature_names\n",
    "iris_target_names = iris.target_names\n",
    "\n",
    "# 2. Wine dataset\n",
    "\n",
    "wine = datasets.load_wine()\n",
    "wine_data = wine.data\n",
    "wine_target = wine.target\n",
    "wine_feature_names = wine.feature_names\n",
    "wine_target_names = wine.target_names\n",
    "\n",
    "# 3. Breast cancer dataset\n",
    "cancer = datasets.load_breast_cancer()\n",
    "cancer_data = cancer.data\n",
    "cancer_target = cancer.target\n",
    "cancer_feature_names = cancer.feature_names\n",
    "cancer_target_names = cancer.target_names\n"
   ]
  },
  {
   "cell_type": "code",
   "execution_count": 18,
   "metadata": {},
   "outputs": [],
   "source": [
    "#find centroid of each class\n",
    "\n",
    "def find_centroid(data, target):\n",
    "    centroid = []\n",
    "    for i in np.unique(target):\n",
    "        centroid.append(np.mean(data[target == i], axis=0))\n",
    "    return np.array(centroid)\n",
    "\n",
    "def find_min_distance(new_sample, centroid):\n",
    "    # Calculate the distance between the new sample and the centroid of each class\n",
    "    distance = np.linalg.norm(new_sample - centroid, axis=1)\n",
    "    # Return class with minimum distance\n",
    "    return np.argmin(distance)\n",
    "\n",
    "def find_1_nearest_neighbor(new_sample, data, target):\n",
    "    # Calculate the distance between the new sample and each sample in the dataset\n",
    "    distance = np.linalg.norm(data - new_sample, axis=1)\n",
    "    # Return the class of the sample with minimum distance\n",
    "    return target[np.argmin(distance)]\n",
    "\n"
   ]
  },
  {
   "cell_type": "code",
   "execution_count": 19,
   "metadata": {},
   "outputs": [],
   "source": [
    "#Validate models using Holdout stratified  (70/30), 10 fold cross validation and leave one out cross validation\n",
    "def holdout_stratified(data, target, classifier):\n",
    "    # Split the dataset into training and testing sets\n",
    "    from sklearn.model_selection import train_test_split\n",
    "    X_train, X_test, y_train, y_test = train_test_split(data, target, test_size=0.3, stratify=target)\n",
    "    # Train the classifier\n",
    "    centroid = find_centroid(X_train, y_train)\n",
    "    # Test the classifier\n",
    "    correct = 0\n",
    "    for i in range(len(X_test)):\n",
    "        if classifier(X_test[i], centroid) == y_test[i]:\n",
    "            correct += 1\n",
    "    return correct / len(X_test)\n",
    "\n",
    "def k_fold_cross_validation(data, target, classifier, k):\n",
    "    # Split the dataset into k folds\n",
    "    from sklearn.model_selection import KFold\n",
    "    kf = KFold(n_splits=k)\n",
    "    accuracy = 0\n",
    "    for train_index, test_index in kf.split(data):\n",
    "        # Train the classifier\n",
    "        centroid = find_centroid(data[train_index], target[train_index])\n",
    "        # Test the classifier\n",
    "        correct = 0\n",
    "        for i in test_index:\n",
    "            if classifier(data[i], centroid) == target[i]:\n",
    "                correct += 1\n",
    "        accuracy += correct / len(test_index)\n",
    "    return accuracy / k\n",
    "\n",
    "def leave_one_out_cross_validation(data, target, classifier):\n",
    "    # Split the dataset into n folds\n",
    "    from sklearn.model_selection import LeaveOneOut\n",
    "    loo = LeaveOneOut()\n",
    "    accuracy = 0\n",
    "    for train_index, test_index in loo.split(data):\n",
    "        # Train the classifier\n",
    "        centroid = find_centroid(data[train_index], target[train_index])\n",
    "        # Test the classifier\n",
    "        if classifier(data[test_index], centroid) == target[test_index]:\n",
    "            accuracy += 1\n",
    "    return accuracy / len(data)"
   ]
  },
  {
   "cell_type": "code",
   "execution_count": 20,
   "metadata": {},
   "outputs": [],
   "source": [
    "# Performance measures (Accuracy, Confusion matrix)\n",
    "\n",
    "def confusion_matrix(data, target, classifier):\n",
    "    # Initialize the confusion matrix\n",
    "    confusion_matrix = np.zeros((len(np.unique(target)), len(np.unique(target))))\n",
    "    # Calculate the confusion matrix\n",
    "    for i in range(len(data)):\n",
    "        confusion_matrix[target[i], classifier(data[i], find_centroid(data, target))] += 1\n",
    "    return confusion_matrix\n",
    "    \n",
    "def accuracy(data, target, classifier):\n",
    "    # Calculate the accuracy of the classifier\n",
    "    return np.trace(confusion_matrix(data, target, classifier)) / len(data)\n",
    "    "
   ]
  },
  {
   "cell_type": "code",
   "execution_count": 21,
   "metadata": {},
   "outputs": [
    {
     "name": "stdout",
     "output_type": "stream",
     "text": [
      "------------------Iris dataset------------------\n",
      "-----------------Minimum distance-----------------\n",
      "Holdout stratified: 0.8888888888888888\n",
      "10-fold cross validation: 0.9266666666666667\n",
      "Leave-one-out cross validation: 0.92\n",
      "Confusion matrix:\n",
      "[[50.  0.  0.]\n",
      " [ 0. 46.  4.]\n",
      " [ 0.  7. 43.]]\n",
      "Accuracy: 0.9266666666666666\n",
      "-----------------1NN-----------------\n",
      "Holdout stratified: 1.0\n",
      "10-fold cross validation: 1.0\n",
      "Leave-one-out cross validation: 1.0\n",
      "Confusion matrix:\n",
      "[[50.  0.  0.]\n",
      " [ 0. 50.  0.]\n",
      " [ 0.  0. 50.]]\n",
      "Accuracy: 1.0\n"
     ]
    }
   ],
   "source": [
    "# Results with different datasets and classifiers using different validation methods\n",
    "\n",
    "# Iris dataset\n",
    "print(\"------------------Iris dataset------------------\")\n",
    "\n",
    "\n",
    "print(\"-----------------Minimum distance-----------------\")\n",
    "print(\"Holdout stratified:\", holdout_stratified(iris_data, iris_target, find_min_distance))\n",
    "print(\"10-fold cross validation:\", k_fold_cross_validation(iris_data, iris_target, find_min_distance, 10))\n",
    "print(\"Leave-one-out cross validation:\", leave_one_out_cross_validation(iris_data, iris_target, find_min_distance))\n",
    "print(\"Confusion matrix:\")\n",
    "print(confusion_matrix(iris_data, iris_target, find_min_distance))\n",
    "print(\"Accuracy:\", accuracy(iris_data, iris_target, find_min_distance))\n",
    "\n",
    "\n",
    "print(\"-----------------1NN-----------------\")\n",
    "print(\"Holdout stratified:\", holdout_stratified(iris_data, iris_target, lambda x, _: find_1_nearest_neighbor(x, iris_data, iris_target)))\n",
    "print(\"10-fold cross validation:\", k_fold_cross_validation(iris_data, iris_target, lambda x, _: find_1_nearest_neighbor(x, iris_data, iris_target), 10))\n",
    "print(\"Leave-one-out cross validation:\", leave_one_out_cross_validation(iris_data, iris_target, lambda x, _: find_1_nearest_neighbor(x, iris_data, iris_target)))\n",
    "print(\"Confusion matrix:\")\n",
    "print(confusion_matrix(iris_data, iris_target, lambda x, _: find_1_nearest_neighbor(x, iris_data, iris_target)))\n",
    "print(\"Accuracy:\", accuracy(iris_data, iris_target, lambda x, _: find_1_nearest_neighbor(x, iris_data, iris_target)))\n",
    "\n"
   ]
  },
  {
   "cell_type": "code",
   "execution_count": 22,
   "metadata": {},
   "outputs": [
    {
     "name": "stdout",
     "output_type": "stream",
     "text": [
      "------------------Wine dataset------------------\n",
      "-----------------Minimum distance classifier-----------------\n",
      "Minimum distance classifier\n",
      "Holdout stratified: 0.7037037037037037\n",
      "10-fold cross validation: 0.7183006535947711\n",
      "Leave-one-out cross validation: 0.7247191011235955\n",
      "Confusion matrix:\n",
      "[[50.  0.  9.]\n",
      " [ 3. 49. 19.]\n",
      " [ 1. 17. 30.]]\n",
      "Accuracy: 0.7247191011235955\n",
      "-----------------1NN-----------------\n",
      "Holdout stratified: 1.0\n",
      "10-fold cross validation: 1.0\n",
      "Leave-one-out cross validation: 1.0\n",
      "Confusion matrix:\n",
      "[[59.  0.  0.]\n",
      " [ 0. 71.  0.]\n",
      " [ 0.  0. 48.]]\n",
      "Accuracy: 1.0\n"
     ]
    }
   ],
   "source": [
    "# Wine dataset\n",
    "print(\"------------------Wine dataset------------------\")\n",
    "\n",
    "print(\"-----------------Minimum distance classifier-----------------\")\n",
    "print(\"Minimum distance classifier\")\n",
    "print(\"Holdout stratified:\", holdout_stratified(wine_data, wine_target, find_min_distance))\n",
    "print(\"10-fold cross validation:\", k_fold_cross_validation(wine_data, wine_target, find_min_distance, 10))\n",
    "print(\"Leave-one-out cross validation:\", leave_one_out_cross_validation(wine_data, wine_target, find_min_distance))\n",
    "print(\"Confusion matrix:\")\n",
    "print(confusion_matrix(wine_data, wine_target, find_min_distance))\n",
    "print(\"Accuracy:\", accuracy(wine_data, wine_target, find_min_distance))\n",
    "\n",
    "print(\"-----------------1NN-----------------\")\n",
    "print(\"Holdout stratified:\", holdout_stratified(wine_data, wine_target, lambda x, _: find_1_nearest_neighbor(x, wine_data, wine_target)))\n",
    "print(\"10-fold cross validation:\", k_fold_cross_validation(wine_data, wine_target, lambda x, _: find_1_nearest_neighbor(x, wine_data, wine_target), 10))\n",
    "print(\"Leave-one-out cross validation:\", leave_one_out_cross_validation(wine_data, wine_target, lambda x, _: find_1_nearest_neighbor(x, wine_data, wine_target)))\n",
    "print(\"Confusion matrix:\")\n",
    "print(confusion_matrix(wine_data, wine_target, lambda x, _: find_1_nearest_neighbor(x, wine_data, wine_target)))\n",
    "print(\"Accuracy:\", accuracy(wine_data, wine_target, lambda x, _: find_1_nearest_neighbor(x, wine_data, wine_target)))"
   ]
  },
  {
   "cell_type": "code",
   "execution_count": 23,
   "metadata": {},
   "outputs": [
    {
     "name": "stdout",
     "output_type": "stream",
     "text": [
      "------------------Breast cancer dataset------------------\n",
      "-----------------Minimum distance classifier-----------------\n",
      "Holdout stratified: 0.8947368421052632\n",
      "10-fold cross validation: 0.8876253132832082\n",
      "Leave-one-out cross validation: 0.8910369068541301\n",
      "Confusion matrix:\n",
      "[[154.  58.]\n",
      " [  4. 353.]]\n",
      "Accuracy: 0.8910369068541301\n",
      "-----------------1NN-----------------\n",
      "Holdout stratified: 1.0\n",
      "10-fold cross validation: 1.0\n",
      "Leave-one-out cross validation: 1.0\n",
      "Confusion matrix:\n",
      "[[212.   0.]\n",
      " [  0. 357.]]\n",
      "Accuracy: 1.0\n"
     ]
    }
   ],
   "source": [
    "# Breast cancer dataset\n",
    "print(\"------------------Breast cancer dataset------------------\")\n",
    "\n",
    "print(\"-----------------Minimum distance classifier-----------------\")\n",
    "print(\"Holdout stratified:\", holdout_stratified(cancer_data, cancer_target, find_min_distance))\n",
    "print(\"10-fold cross validation:\", k_fold_cross_validation(cancer_data, cancer_target, find_min_distance, 10))\n",
    "print(\"Leave-one-out cross validation:\", leave_one_out_cross_validation(cancer_data, cancer_target, find_min_distance))\n",
    "print(\"Confusion matrix:\")\n",
    "print(confusion_matrix(cancer_data, cancer_target, find_min_distance))\n",
    "print(\"Accuracy:\", accuracy(cancer_data, cancer_target, find_min_distance))\n",
    "\n",
    "print(\"-----------------1NN-----------------\")\n",
    "print(\"Holdout stratified:\", holdout_stratified(cancer_data, cancer_target, lambda x, _: find_1_nearest_neighbor(x, cancer_data, cancer_target)))\n",
    "print(\"10-fold cross validation:\", k_fold_cross_validation(cancer_data, cancer_target, lambda x, _: find_1_nearest_neighbor(x, cancer_data, cancer_target), 10))\n",
    "print(\"Leave-one-out cross validation:\", leave_one_out_cross_validation(cancer_data, cancer_target, lambda x, _: find_1_nearest_neighbor(x, cancer_data, cancer_target)))\n",
    "print(\"Confusion matrix:\")\n",
    "print(confusion_matrix(cancer_data, cancer_target, lambda x, _: find_1_nearest_neighbor(x, cancer_data, cancer_target)))\n",
    "print(\"Accuracy:\", accuracy(cancer_data, cancer_target, lambda x, _: find_1_nearest_neighbor(x, cancer_data, cancer_target)))"
   ]
  }
 ],
 "metadata": {
  "kernelspec": {
   "display_name": "ML_class_ydataprofiling",
   "language": "python",
   "name": "python3"
  },
  "language_info": {
   "codemirror_mode": {
    "name": "ipython",
    "version": 3
   },
   "file_extension": ".py",
   "mimetype": "text/x-python",
   "name": "python",
   "nbconvert_exporter": "python",
   "pygments_lexer": "ipython3",
   "version": "3.11.9"
  }
 },
 "nbformat": 4,
 "nbformat_minor": 2
}
